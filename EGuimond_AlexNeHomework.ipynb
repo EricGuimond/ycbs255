{
  "nbformat": 4,
  "nbformat_minor": 0,
  "metadata": {
    "colab": {
      "name": "EGuimond_AlexNeHomework.ipynb",
      "provenance": [],
      "collapsed_sections": [],
      "include_colab_link": true
    },
    "kernelspec": {
      "name": "python3",
      "display_name": "Python 3"
    },
    "accelerator": "GPU"
  },
  "cells": [
    {
      "cell_type": "markdown",
      "metadata": {
        "id": "view-in-github",
        "colab_type": "text"
      },
      "source": [
        "<a href=\"https://colab.research.google.com/github/EricGuimond/ycbs255/blob/master/EGuimond_AlexNeHomework.ipynb\" target=\"_parent\"><img src=\"https://colab.research.google.com/assets/colab-badge.svg\" alt=\"Open In Colab\"/></a>"
      ]
    },
    {
      "cell_type": "markdown",
      "metadata": {
        "id": "omn2W8BEaDmD",
        "colab_type": "text"
      },
      "source": [
        "# Assignment\n",
        "Build the AlexNet architecture and train it on the CIFAR100 dataset.\n",
        "\n",
        "You may resize some of the kernel sizes (mainly the first one) and the number of kernels because CIFAR100 is a smaller dataset than ImageNet, as well as lower-resolution (32x32 vs 224x224).\n",
        "\n",
        "You may resize the number of kernels used per layer if it speeds up training and/or preserves accuracy.\n",
        "\n",
        "Report training, validation and test errors. Which hyperparameters did you change to improve performance?\n",
        "\n",
        "**MAKE SURE YOU USE A GPU!** Top menu select \"Runtime\", then \"Runtime Type\". Make sure \"Hardware Accelerator\" has the option \"GPU\" selected.\n",
        "\n",
        "Tips:\n",
        "- Start with only a few of a layers and check if the network can learn.\n",
        "- Add layers progressively.\n",
        "- Be patient: more layers and dropout can make the learning slower.\n",
        "- Check the shape of the output of the model to make sure your layers and convolutions are the right size.\n",
        "- The accuracy for random predictions is ~0.01.\n",
        "- Favor a model that works vs reproducing the exact architecture, in case the exact architecture is too difficult to train.\n",
        "- If you don't reproduce the exact architecture, that is fine. Explain what you changed and why!\n",
        "- If you implement a different architecture in favor of AlexNet, report performance by AlexNet nonetheless."
      ]
    },
    {
      "cell_type": "code",
      "metadata": {
        "id": "F9jr3RMsjMcR",
        "colab_type": "code",
        "outputId": "cbc25600-6a56-4b5a-dcf6-ab689bf7cf4f",
        "colab": {
          "base_uri": "https://localhost:8080/",
          "height": 34
        }
      },
      "source": [
        "%tensorflow_version 2.x\n",
        "import tensorflow as tf\n",
        "import numpy as np\n",
        "from tensorflow import keras\n",
        "from tensorflow.keras import datasets\n",
        "import matplotlib.pyplot as plt"
      ],
      "execution_count": 1,
      "outputs": [
        {
          "output_type": "stream",
          "text": [
            "TensorFlow 2.x selected.\n"
          ],
          "name": "stdout"
        }
      ]
    },
    {
      "cell_type": "code",
      "metadata": {
        "id": "IGu8HMKrjv2A",
        "colab_type": "code",
        "outputId": "36324f54-1b3c-4937-ae43-3c26a9bb3227",
        "colab": {
          "base_uri": "https://localhost:8080/",
          "height": 51
        }
      },
      "source": [
        "(X_train_full, y_train_full), (X_test, y_test) = keras.datasets.cifar100.load_data()"
      ],
      "execution_count": 2,
      "outputs": [
        {
          "output_type": "stream",
          "text": [
            "Downloading data from https://www.cs.toronto.edu/~kriz/cifar-100-python.tar.gz\n",
            "169009152/169001437 [==============================] - 13s 0us/step\n"
          ],
          "name": "stdout"
        }
      ]
    },
    {
      "cell_type": "code",
      "metadata": {
        "id": "AonmJAZ80X1h",
        "colab_type": "code",
        "outputId": "e5243f7c-dc9a-4d49-eb04-c28a768e74fc",
        "colab": {
          "base_uri": "https://localhost:8080/",
          "height": 34
        }
      },
      "source": [
        "X_train_full.shape, y_train_full.shape, X_test.shape, y_test.shape"
      ],
      "execution_count": 3,
      "outputs": [
        {
          "output_type": "execute_result",
          "data": {
            "text/plain": [
              "((50000, 32, 32, 3), (50000, 1), (10000, 32, 32, 3), (10000, 1))"
            ]
          },
          "metadata": {
            "tags": []
          },
          "execution_count": 3
        }
      ]
    },
    {
      "cell_type": "code",
      "metadata": {
        "id": "6tbqsqRij3IQ",
        "colab_type": "code",
        "outputId": "ec199929-c0cf-439e-f5f5-6fda690862b1",
        "colab": {
          "base_uri": "https://localhost:8080/",
          "height": 284
        }
      },
      "source": [
        "fig = plt.figure()\n",
        "\n",
        "for i in range(9):\n",
        "  plt.subplot(3, 3, i+1)\n",
        "  plt.tight_layout()\n",
        "  plt.imshow(X_train_full[i], interpolation='none')\n",
        "  plt.title('Class: {}'.format(y_train_full[i]))\n",
        "  plt.xticks([])\n",
        "  plt.yticks([])"
      ],
      "execution_count": 4,
      "outputs": [
        {
          "output_type": "display_data",
          "data": {
            "image/png": "[encoded data removed]",
            "text/plain": [
              "<Figure size 432x288 with 9 Axes>"
            ]
          },
          "metadata": {
            "tags": []
          }
        }
      ]
    },
    {
      "cell_type": "code",
      "metadata": {
        "id": "Lar4JTXVaQJW",
        "colab_type": "code",
        "colab": {}
      },
      "source": [
        "class LocalResponseNormalization(keras.layers.Layer):\n",
        "  \"\"\" Here is an implementation of the special layer used in the 2012 paper. \"\"\"\n",
        "\n",
        "  def __init__(self, depth_radius=5, bias=1, alpha=1, beta=0.5, **kwargs):\n",
        "    super().__init__(**kwargs)\n",
        "    self.depth_radius=depth_radius\n",
        "    self.bias=bias\n",
        "    self.alpha=alpha\n",
        "    self.beta=beta\n",
        "\n",
        "  def call(self, input):\n",
        "    output = tf.nn.local_response_normalization(\n",
        "        input,\n",
        "        depth_radius=self.depth_radius,\n",
        "        bias=self.bias,\n",
        "        alpha=self.alpha,\n",
        "        beta=self.beta,\n",
        "        name=None)\n",
        "    return output"
      ],
      "execution_count": 0,
      "outputs": []
    },
    {
      "cell_type": "code",
      "metadata": {
        "id": "l97dJnvKI6mz",
        "colab_type": "code",
        "colab": {}
      },
      "source": [
        "model = keras.models.Sequential([\n",
        "  keras.layers.Conv2D(filters = 16,\n",
        "                      kernel_size = 3,\n",
        "                      strides = 1,\n",
        "                      padding='valid',\n",
        "                      activation = 'relu',\n",
        "                      input_shape = (32, 32, 3)),\n",
        "\n",
        "  keras.layers.MaxPooling2D(pool_size = 3,\n",
        "                                strides = 2),\n",
        "\n",
        "  keras.layers.Conv2D(filters = 16,\n",
        "                      kernel_size = 5,\n",
        "                      strides = 1,\n",
        "                      padding='valid',\n",
        "                      activation = 'tanh'),\n",
        "\n",
        "  keras.layers.AveragePooling2D(pool_size = 2,\n",
        "                                strides = 2),\n",
        "                                 \n",
        "  keras.layers.Flatten(),\n",
        "  keras.layers.Dense(units = 120,\n",
        "                     activation = 'relu'),\n",
        "\n",
        "  keras.layers.Dense(units = 84,\n",
        "                     activation = 'relu'),\n",
        "                     \n",
        "  keras.layers.Dense(units = 10,\n",
        "                     activation = 'softmax')\n",
        "])\n",
        "\n",
        "model.compile(loss=\"sparse_categorical_crossentropy\", optimizer=\"sgd\", metrics=[\"accuracy\"])"
      ],
      "execution_count": 0,
      "outputs": []
    },
    {
      "cell_type": "markdown",
      "metadata": {
        "id": "Z2xkD1KQnSPh",
        "colab_type": "text"
      },
      "source": [
        "test"
      ]
    },
    {
      "cell_type": "code",
      "metadata": {
        "id": "KE2eQc_snTwK",
        "colab_type": "code",
        "outputId": "699b819b-fc27-45de-a972-39366ab9b0eb",
        "colab": {
          "base_uri": "https://localhost:8080/",
          "height": 425
        }
      },
      "source": [
        "model.summary()"
      ],
      "execution_count": 9,
      "outputs": [
        {
          "output_type": "stream",
          "text": [
            "Model: \"sequential\"\n",
            "_________________________________________________________________\n",
            "Layer (type)                 Output Shape              Param #   \n",
            "=================================================================\n",
            "conv2d_1 (Conv2D)            (None, 30, 30, 16)        448       \n",
            "_________________________________________________________________\n",
            "max_pooling2d_1 (MaxPooling2 (None, 14, 14, 16)        0         \n",
            "_________________________________________________________________\n",
            "conv2d_2 (Conv2D)            (None, 10, 10, 16)        6416      \n",
            "_________________________________________________________________\n",
            "average_pooling2d (AveragePo (None, 5, 5, 16)          0         \n",
            "_________________________________________________________________\n",
            "flatten (Flatten)            (None, 400)               0         \n",
            "_________________________________________________________________\n",
            "dense (Dense)                (None, 120)               48120     \n",
            "_________________________________________________________________\n",
            "dense_1 (Dense)              (None, 84)                10164     \n",
            "_________________________________________________________________\n",
            "dense_2 (Dense)              (None, 10)                850       \n",
            "=================================================================\n",
            "Total params: 65,998\n",
            "Trainable params: 65,998\n",
            "Non-trainable params: 0\n",
            "_________________________________________________________________\n"
          ],
          "name": "stdout"
        }
      ]
    },
    {
      "cell_type": "code",
      "metadata": {
        "id": "YGWJFMP5v_AI",
        "colab_type": "code",
        "outputId": "2b113a50-0a11-48f2-d762-dbf654712b56",
        "colab": {
          "base_uri": "https://localhost:8080/",
          "height": 204
        }
      },
      "source": [
        "history = model.fit(X_train_full, y_train_full, epochs=5, validation_data=[X_test, y_test])"
      ],
      "execution_count": 10,
      "outputs": [
        {
          "output_type": "stream",
          "text": [
            "Train on 50000 samples, validate on 10000 samples\n",
            "Epoch 1/5\n",
            "50000/50000 [==============================] - 13s 255us/sample - loss: nan - accuracy: 0.0100 - val_loss: nan - val_accuracy: 0.0100\n",
            "Epoch 2/5\n",
            "50000/50000 [==============================] - 6s 112us/sample - loss: nan - accuracy: 0.0100 - val_loss: nan - val_accuracy: 0.0100\n",
            "Epoch 3/5\n",
            "50000/50000 [==============================] - 6s 114us/sample - loss: nan - accuracy: 0.0100 - val_loss: nan - val_accuracy: 0.0100\n",
            "Epoch 4/5\n",
            "50000/50000 [==============================] - 6s 111us/sample - loss: nan - accuracy: 0.0100 - val_loss: nan - val_accuracy: 0.0100\n",
            "Epoch 5/5\n",
            "50000/50000 [==============================] - 6s 110us/sample - loss: nan - accuracy: 0.0100 - val_loss: nan - val_accuracy: 0.0100\n"
          ],
          "name": "stdout"
        }
      ]
    },
    {
      "cell_type": "code",
      "metadata": {
        "id": "dYquqBFuy40k",
        "colab_type": "code",
        "outputId": "e19feeba-71d0-4e1d-c044-47fae5ff8fed",
        "colab": {
          "base_uri": "https://localhost:8080/",
          "height": 34
        }
      },
      "source": [
        "history.history.keys()"
      ],
      "execution_count": 11,
      "outputs": [
        {
          "output_type": "execute_result",
          "data": {
            "text/plain": [
              "dict_keys(['loss', 'accuracy', 'val_loss', 'val_accuracy'])"
            ]
          },
          "metadata": {
            "tags": []
          },
          "execution_count": 11
        }
      ]
    },
    {
      "cell_type": "code",
      "metadata": {
        "id": "10JCg89mzAFI",
        "colab_type": "code",
        "outputId": "fd88283f-1a21-46b9-9735-3d3466072812",
        "colab": {
          "base_uri": "https://localhost:8080/",
          "height": 282
        }
      },
      "source": [
        "plt.plot(history.history['val_accuracy'], 'r')\n",
        "plt.plot(history.history['accuracy'], 'b')\n",
        "plt.legend(['valid', 'train'])\n"
      ],
      "execution_count": 12,
      "outputs": [
        {
          "output_type": "execute_result",
          "data": {
            "text/plain": [
              "<matplotlib.legend.Legend at 0x7ff060306940>"
            ]
          },
          "metadata": {
            "tags": []
          },
          "execution_count": 12
        },
        {
          "output_type": "display_data",
          "data": {
            "image/png": "[encoded data removed]",
            "text/plain": [
              "<Figure size 432x288 with 1 Axes>"
            ]
          },
          "metadata": {
            "tags": []
          }
        }
      ]
    },
    {
      "cell_type": "code",
      "metadata": {
        "id": "6qyVBqoazWNc",
        "colab_type": "code",
        "outputId": "75718331-e1da-456f-b610-9203f876a628",
        "colab": {
          "base_uri": "https://localhost:8080/",
          "height": 282
        }
      },
      "source": [
        "plt.plot(history.history['val_loss'], 'r')\n",
        "plt.plot(history.history['loss'], 'b')\n",
        "plt.legend(['valid', 'train'])"
      ],
      "execution_count": 13,
      "outputs": [
        {
          "output_type": "execute_result",
          "data": {
            "text/plain": [
              "<matplotlib.legend.Legend at 0x7ff060290e48>"
            ]
          },
          "metadata": {
            "tags": []
          },
          "execution_count": 13
        },
        {
          "output_type": "display_data",
          "data": {
            "image/png": "[encoded data removed]",
            "text/plain": [
              "<Figure size 432x288 with 1 Axes>"
            ]
          },
          "metadata": {
            "tags": []
          }
        }
      ]
    }
  ]
}