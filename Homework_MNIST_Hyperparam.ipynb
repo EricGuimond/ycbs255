{
  "nbformat": 4,
  "nbformat_minor": 0,
  "metadata": {
    "colab": {
      "name": "Homework_MNIST_Hyperparam.ipynb",
      "provenance": [],
      "collapsed_sections": [],
      "include_colab_link": true
    },
    "kernelspec": {
      "name": "python3",
      "display_name": "Python 3"
    }
  },
  "cells": [
    {
      "cell_type": "markdown",
      "metadata": {
        "id": "view-in-github",
        "colab_type": "text"
      },
      "source": [
        "<a href=\"https://colab.research.google.com/github/EricGuimond/ycbs255/blob/master/Homework_MNIST_Hyperparam.ipynb\" target=\"_parent\"><img src=\"https://colab.research.google.com/assets/colab-badge.svg\" alt=\"Open In Colab\"/></a>"
      ]
    },
    {
      "cell_type": "markdown",
      "metadata": {
        "id": "0AeHH9cLNMbA",
        "colab_type": "text"
      },
      "source": [
        "### Homework\n",
        "#### Instructions\n",
        "1.\tChoose 4 hyperparameters we have learned about in class\n",
        "2.\tCreate lists of the different options of hyperparameters\n",
        "3.\tRandomly sample from those lists and train a Keras model on MNIST\n",
        "4.\tDisplay the different loss and accuracy curves using matplotlib\n",
        "###\n"
      ]
    },
    {
      "cell_type": "code",
      "metadata": {
        "id": "MCko_Vh6NCsk",
        "colab_type": "code",
        "outputId": "1d20c3e2-702f-47a1-c89e-47fb7312eca8",
        "colab": {
          "base_uri": "https://localhost:8080/",
          "height": 34
        }
      },
      "source": [
        "%tensorflow_version 2.x\n",
        "import tensorflow as tf\n",
        "from tensorflow import keras\n"
      ],
      "execution_count": 2,
      "outputs": [
        {
          "output_type": "stream",
          "text": [
            "TensorFlow 2.x selected.\n"
          ],
          "name": "stdout"
        }
      ]
    },
    {
      "cell_type": "code",
      "metadata": {
        "id": "24v9P27Etf6F",
        "colab_type": "code",
        "colab": {}
      },
      "source": [
        "import matplotlib.pyplot as plt\n",
        "import numpy as np\n"
      ],
      "execution_count": 0,
      "outputs": []
    },
    {
      "cell_type": "code",
      "metadata": {
        "id": "09CHc2fTty6t",
        "colab_type": "code",
        "outputId": "a0eb5cf2-366e-407d-885d-223edd43a986",
        "colab": {
          "base_uri": "https://localhost:8080/",
          "height": 51
        }
      },
      "source": [
        "mnist = keras.datasets.mnist\n",
        "\n",
        "data = mnist.load_data()\n"
      ],
      "execution_count": 4,
      "outputs": [
        {
          "output_type": "stream",
          "text": [
            "Downloading data from https://storage.googleapis.com/tensorflow/tf-keras-datasets/mnist.npz\n",
            "11493376/11490434 [==============================] - 0s 0us/step\n"
          ],
          "name": "stdout"
        }
      ]
    },
    {
      "cell_type": "code",
      "metadata": {
        "id": "Gvg2alXRt9cC",
        "colab_type": "code",
        "colab": {}
      },
      "source": [
        "from tensorflow.keras import layers\n"
      ],
      "execution_count": 0,
      "outputs": []
    },
    {
      "cell_type": "code",
      "metadata": {
        "id": "Myvl67C3vVnZ",
        "colab_type": "code",
        "outputId": "42c14fae-dd51-4c4c-ff96-94c15375227b",
        "colab": {
          "base_uri": "https://localhost:8080/",
          "height": 1000
        }
      },
      "source": [
        "dir(layers)"
      ],
      "execution_count": 0,
      "outputs": [
        {
          "output_type": "execute_result",
          "data": {
            "text/plain": [
              "['AbstractRNNCell',\n",
              " 'Activation',\n",
              " 'ActivityRegularization',\n",
              " 'Add',\n",
              " 'AdditiveAttention',\n",
              " 'AlphaDropout',\n",
              " 'Attention',\n",
              " 'Average',\n",
              " 'AveragePooling1D',\n",
              " 'AveragePooling2D',\n",
              " 'AveragePooling3D',\n",
              " 'AvgPool1D',\n",
              " 'AvgPool2D',\n",
              " 'AvgPool3D',\n",
              " 'BatchNormalization',\n",
              " 'Bidirectional',\n",
              " 'Concatenate',\n",
              " 'Conv1D',\n",
              " 'Conv2D',\n",
              " 'Conv2DTranspose',\n",
              " 'Conv3D',\n",
              " 'Conv3DTranspose',\n",
              " 'ConvLSTM2D',\n",
              " 'Convolution1D',\n",
              " 'Convolution2D',\n",
              " 'Convolution2DTranspose',\n",
              " 'Convolution3D',\n",
              " 'Convolution3DTranspose',\n",
              " 'Cropping1D',\n",
              " 'Cropping2D',\n",
              " 'Cropping3D',\n",
              " 'Dense',\n",
              " 'DenseFeatures',\n",
              " 'DepthwiseConv2D',\n",
              " 'Dot',\n",
              " 'Dropout',\n",
              " 'ELU',\n",
              " 'Embedding',\n",
              " 'Flatten',\n",
              " 'GRU',\n",
              " 'GRUCell',\n",
              " 'GaussianDropout',\n",
              " 'GaussianNoise',\n",
              " 'GlobalAveragePooling1D',\n",
              " 'GlobalAveragePooling2D',\n",
              " 'GlobalAveragePooling3D',\n",
              " 'GlobalAvgPool1D',\n",
              " 'GlobalAvgPool2D',\n",
              " 'GlobalAvgPool3D',\n",
              " 'GlobalMaxPool1D',\n",
              " 'GlobalMaxPool2D',\n",
              " 'GlobalMaxPool3D',\n",
              " 'GlobalMaxPooling1D',\n",
              " 'GlobalMaxPooling2D',\n",
              " 'GlobalMaxPooling3D',\n",
              " 'Input',\n",
              " 'InputLayer',\n",
              " 'InputSpec',\n",
              " 'LSTM',\n",
              " 'LSTMCell',\n",
              " 'Lambda',\n",
              " 'Layer',\n",
              " 'LayerNormalization',\n",
              " 'LeakyReLU',\n",
              " 'LocallyConnected1D',\n",
              " 'LocallyConnected2D',\n",
              " 'Masking',\n",
              " 'MaxPool1D',\n",
              " 'MaxPool2D',\n",
              " 'MaxPool3D',\n",
              " 'MaxPooling1D',\n",
              " 'MaxPooling2D',\n",
              " 'MaxPooling3D',\n",
              " 'Maximum',\n",
              " 'Minimum',\n",
              " 'Multiply',\n",
              " 'PReLU',\n",
              " 'Permute',\n",
              " 'RNN',\n",
              " 'ReLU',\n",
              " 'RepeatVector',\n",
              " 'Reshape',\n",
              " 'SeparableConv1D',\n",
              " 'SeparableConv2D',\n",
              " 'SeparableConvolution1D',\n",
              " 'SeparableConvolution2D',\n",
              " 'SimpleRNN',\n",
              " 'SimpleRNNCell',\n",
              " 'Softmax',\n",
              " 'SpatialDropout1D',\n",
              " 'SpatialDropout2D',\n",
              " 'SpatialDropout3D',\n",
              " 'StackedRNNCells',\n",
              " 'Subtract',\n",
              " 'ThresholdedReLU',\n",
              " 'TimeDistributed',\n",
              " 'UpSampling1D',\n",
              " 'UpSampling2D',\n",
              " 'UpSampling3D',\n",
              " 'Wrapper',\n",
              " 'ZeroPadding1D',\n",
              " 'ZeroPadding2D',\n",
              " 'ZeroPadding3D',\n",
              " '__builtins__',\n",
              " '__cached__',\n",
              " '__doc__',\n",
              " '__file__',\n",
              " '__loader__',\n",
              " '__name__',\n",
              " '__package__',\n",
              " '__path__',\n",
              " '__spec__',\n",
              " '_sys',\n",
              " 'add',\n",
              " 'average',\n",
              " 'concatenate',\n",
              " 'deserialize',\n",
              " 'dot',\n",
              " 'experimental',\n",
              " 'maximum',\n",
              " 'minimum',\n",
              " 'multiply',\n",
              " 'serialize',\n",
              " 'subtract']"
            ]
          },
          "metadata": {
            "tags": []
          },
          "execution_count": 5
        }
      ]
    },
    {
      "cell_type": "code",
      "metadata": {
        "id": "3B3C5qNMwF7Z",
        "colab_type": "code",
        "colab": {}
      },
      "source": [
        "data[0][0].shape, data[0][1].shape, data[1][0].shape, data[1][1].shape\n",
        "\n",
        "X_train, y_train, X_test, y_test = data[0][0], data[0][1], data[1][0], data[1][1]\n",
        "X_train = X_train / 255\n",
        "X_test = X_test / 255\n",
        "class_names = [str(i) for i in range(10)]\n",
        "idx = np.arange(len(X_train))\n",
        "np.random.seed(42)\n",
        "np.random.shuffle(idx)\n",
        "X_train, y_train, X_valid, y_valid = X_train[:-10000], y_train[:-10000], X_train[-10000:], y_train[-10000:]\n",
        "\n"
      ],
      "execution_count": 0,
      "outputs": []
    },
    {
      "cell_type": "code",
      "metadata": {
        "id": "kIsE2RdBxAWJ",
        "colab_type": "code",
        "colab": {}
      },
      "source": [
        "from tensorflow.keras.layers import Flatten, Dense"
      ],
      "execution_count": 0,
      "outputs": []
    },
    {
      "cell_type": "code",
      "metadata": {
        "id": "dGCRdUkayu2o",
        "colab_type": "code",
        "colab": {}
      },
      "source": [
        "inputs = keras.Input(shape=(28,28,))\n",
        "x = Flatten() (inputs)\n",
        "y = Dense(8, activation='relu')(x)\n",
        "z = Dense(10, activation='relu')(y)\n",
        "outputs = Dense(10, activation='sigmoid')(z)"
      ],
      "execution_count": 0,
      "outputs": []
    },
    {
      "cell_type": "code",
      "metadata": {
        "id": "fykWJ9vrzLWa",
        "colab_type": "code",
        "colab": {}
      },
      "source": [
        "func_model = keras.Model (inputs, outputs)"
      ],
      "execution_count": 0,
      "outputs": []
    },
    {
      "cell_type": "code",
      "metadata": {
        "id": "0JnOJsbfzSVU",
        "colab_type": "code",
        "outputId": "3d353a05-31f7-4fba-f056-b57963520449",
        "colab": {
          "base_uri": "https://localhost:8080/",
          "height": 319
        }
      },
      "source": [
        "func_model.compile(loss=keras.losses.sparse_categorical_crossentropy,\n",
        "              optimizer=keras.optimizers.Adam(),\n",
        "              metrics=[keras.metrics.sparse_categorical_accuracy])\n",
        "\n",
        "func_model.summary()"
      ],
      "execution_count": 0,
      "outputs": [
        {
          "output_type": "stream",
          "text": [
            "Model: \"model\"\n",
            "_________________________________________________________________\n",
            "Layer (type)                 Output Shape              Param #   \n",
            "=================================================================\n",
            "input_1 (InputLayer)         [(None, 28, 28)]          0         \n",
            "_________________________________________________________________\n",
            "flatten (Flatten)            (None, 784)               0         \n",
            "_________________________________________________________________\n",
            "dense (Dense)                (None, 8)                 6280      \n",
            "_________________________________________________________________\n",
            "dense_1 (Dense)              (None, 10)                90        \n",
            "_________________________________________________________________\n",
            "dense_2 (Dense)              (None, 10)                110       \n",
            "=================================================================\n",
            "Total params: 6,480\n",
            "Trainable params: 6,480\n",
            "Non-trainable params: 0\n",
            "_________________________________________________________________\n"
          ],
          "name": "stdout"
        }
      ]
    },
    {
      "cell_type": "code",
      "metadata": {
        "id": "AHiW5NPT06F2",
        "colab_type": "code",
        "outputId": "b36b364b-186d-4dd3-e99a-7e89f1b7149d",
        "colab": {
          "base_uri": "https://localhost:8080/",
          "height": 370
        }
      },
      "source": [
        "h = func_model.fit(X_train, y_train, batch_size=16, epochs=10, validation_data=(X_valid, y_valid))\n"
      ],
      "execution_count": 0,
      "outputs": [
        {
          "output_type": "stream",
          "text": [
            "Train on 50000 samples, validate on 10000 samples\n",
            "Epoch 1/10\n",
            "50000/50000 [==============================] - 8s 156us/sample - loss: 0.6939 - sparse_categorical_accuracy: 0.7730 - val_loss: 0.3814 - val_sparse_categorical_accuracy: 0.8886\n",
            "Epoch 2/10\n",
            "50000/50000 [==============================] - 8s 154us/sample - loss: 0.3672 - sparse_categorical_accuracy: 0.8945 - val_loss: 0.3152 - val_sparse_categorical_accuracy: 0.9108\n",
            "Epoch 3/10\n",
            "50000/50000 [==============================] - 8s 151us/sample - loss: 0.3248 - sparse_categorical_accuracy: 0.9066 - val_loss: 0.2997 - val_sparse_categorical_accuracy: 0.9133\n",
            "Epoch 4/10\n",
            "50000/50000 [==============================] - 7s 142us/sample - loss: 0.3050 - sparse_categorical_accuracy: 0.9135 - val_loss: 0.2853 - val_sparse_categorical_accuracy: 0.9169\n",
            "Epoch 5/10\n",
            "50000/50000 [==============================] - 7s 145us/sample - loss: 0.2921 - sparse_categorical_accuracy: 0.9167 - val_loss: 0.2749 - val_sparse_categorical_accuracy: 0.9249\n",
            "Epoch 6/10\n",
            "50000/50000 [==============================] - 7s 144us/sample - loss: 0.2835 - sparse_categorical_accuracy: 0.9200 - val_loss: 0.2782 - val_sparse_categorical_accuracy: 0.9235\n",
            "Epoch 7/10\n",
            "50000/50000 [==============================] - 7s 140us/sample - loss: 0.2746 - sparse_categorical_accuracy: 0.9223 - val_loss: 0.2751 - val_sparse_categorical_accuracy: 0.9240\n",
            "Epoch 8/10\n",
            "50000/50000 [==============================] - 7s 142us/sample - loss: 0.2690 - sparse_categorical_accuracy: 0.9250 - val_loss: 0.2721 - val_sparse_categorical_accuracy: 0.9225\n",
            "Epoch 9/10\n",
            "50000/50000 [==============================] - 7s 143us/sample - loss: 0.2642 - sparse_categorical_accuracy: 0.9255 - val_loss: 0.2712 - val_sparse_categorical_accuracy: 0.9258\n",
            "Epoch 10/10\n",
            "50000/50000 [==============================] - 7s 145us/sample - loss: 0.2564 - sparse_categorical_accuracy: 0.9272 - val_loss: 0.2632 - val_sparse_categorical_accuracy: 0.9274\n"
          ],
          "name": "stdout"
        }
      ]
    },
    {
      "cell_type": "code",
      "metadata": {
        "id": "eR_yiP1l1S34",
        "colab_type": "code",
        "colab": {}
      },
      "source": [
        "import pandas as pd\n"
      ],
      "execution_count": 0,
      "outputs": []
    },
    {
      "cell_type": "code",
      "metadata": {
        "id": "XDvFu3_r1oZs",
        "colab_type": "code",
        "outputId": "a67636a6-77cb-47e4-f614-c242388eb338",
        "colab": {
          "base_uri": "https://localhost:8080/",
          "height": 324
        }
      },
      "source": [
        "pd.DataFrame(h.history).plot(figsize=(8, 5), ls='-')\n",
        "plt.grid(True)\n",
        "plt.gca().set_ylim(0, 1)\n",
        "plt.show()"
      ],
      "execution_count": 0,
      "outputs": [
        {
          "output_type": "display_data",
          "data": {
            "image/png": "[encoded data removed]",
            "text/plain": [
              "<Figure size 576x360 with 1 Axes>"
            ]
          },
          "metadata": {
            "tags": []
          }
        }
      ]
    },
    {
      "cell_type": "code",
      "metadata": {
        "id": "9ULUTQBw2Otg",
        "colab_type": "code",
        "colab": {}
      },
      "source": [
        ""
      ],
      "execution_count": 0,
      "outputs": []
    },
    {
      "cell_type": "code",
      "metadata": {
        "colab_type": "code",
        "id": "knarRor32Q1M",
        "colab": {}
      },
      "source": [
        "from tensorflow.keras.layers import Flatten, Dense"
      ],
      "execution_count": 0,
      "outputs": []
    },
    {
      "cell_type": "code",
      "metadata": {
        "id": "1F2Q0IYB2dJo",
        "colab_type": "code",
        "colab": {}
      },
      "source": [
        ""
      ],
      "execution_count": 0,
      "outputs": []
    },
    {
      "cell_type": "code",
      "metadata": {
        "colab_type": "code",
        "id": "XVAJAhVU2jfD",
        "colab": {}
      },
      "source": [
        "inputs = keras.Input(shape=(28,28,))\n",
        "x = Flatten() (inputs)\n",
        "y = Dense(10, activation='elu')(x)\n",
        "z = Dense(10, activation='relu')(y)\n",
        "outputs = Dense(10, activation='sigmoid')(z)"
      ],
      "execution_count": 0,
      "outputs": []
    },
    {
      "cell_type": "code",
      "metadata": {
        "id": "_z1ZGTj28pQB",
        "colab_type": "code",
        "outputId": "1c110a11-6340-422d-87f1-9d310aeabea9",
        "colab": {
          "base_uri": "https://localhost:8080/",
          "height": 370
        }
      },
      "source": [
        "h = func_model.fit(X_train, y_train, batch_size=16, epochs=10, validation_data=(X_valid, y_valid))"
      ],
      "execution_count": 0,
      "outputs": [
        {
          "output_type": "stream",
          "text": [
            "Train on 50000 samples, validate on 10000 samples\n",
            "Epoch 1/10\n",
            "50000/50000 [==============================] - 7s 143us/sample - loss: 0.2504 - sparse_categorical_accuracy: 0.9300 - val_loss: 0.2627 - val_sparse_categorical_accuracy: 0.9278\n",
            "Epoch 2/10\n",
            "50000/50000 [==============================] - 7s 142us/sample - loss: 0.2463 - sparse_categorical_accuracy: 0.9304 - val_loss: 0.2569 - val_sparse_categorical_accuracy: 0.9323\n",
            "Epoch 3/10\n",
            "50000/50000 [==============================] - 7s 145us/sample - loss: 0.2426 - sparse_categorical_accuracy: 0.9316 - val_loss: 0.2553 - val_sparse_categorical_accuracy: 0.9294\n",
            "Epoch 4/10\n",
            "50000/50000 [==============================] - 7s 141us/sample - loss: 0.2394 - sparse_categorical_accuracy: 0.9329 - val_loss: 0.2569 - val_sparse_categorical_accuracy: 0.9300\n",
            "Epoch 5/10\n",
            "50000/50000 [==============================] - 7s 142us/sample - loss: 0.2357 - sparse_categorical_accuracy: 0.9334 - val_loss: 0.2502 - val_sparse_categorical_accuracy: 0.9318\n",
            "Epoch 6/10\n",
            "50000/50000 [==============================] - 7s 141us/sample - loss: 0.2326 - sparse_categorical_accuracy: 0.9347 - val_loss: 0.2634 - val_sparse_categorical_accuracy: 0.9290\n",
            "Epoch 7/10\n",
            "50000/50000 [==============================] - 7s 141us/sample - loss: 0.2303 - sparse_categorical_accuracy: 0.9347 - val_loss: 0.2464 - val_sparse_categorical_accuracy: 0.9345\n",
            "Epoch 8/10\n",
            "50000/50000 [==============================] - 7s 140us/sample - loss: 0.2275 - sparse_categorical_accuracy: 0.9358 - val_loss: 0.2606 - val_sparse_categorical_accuracy: 0.9271\n",
            "Epoch 9/10\n",
            "50000/50000 [==============================] - 7s 141us/sample - loss: 0.2258 - sparse_categorical_accuracy: 0.9356 - val_loss: 0.2494 - val_sparse_categorical_accuracy: 0.9328\n",
            "Epoch 10/10\n",
            "50000/50000 [==============================] - 7s 140us/sample - loss: 0.2234 - sparse_categorical_accuracy: 0.9372 - val_loss: 0.2404 - val_sparse_categorical_accuracy: 0.9338\n"
          ],
          "name": "stdout"
        }
      ]
    },
    {
      "cell_type": "code",
      "metadata": {
        "id": "kGhzKU8w9QDu",
        "colab_type": "code",
        "colab": {}
      },
      "source": [
        ""
      ],
      "execution_count": 0,
      "outputs": []
    },
    {
      "cell_type": "code",
      "metadata": {
        "colab_type": "code",
        "outputId": "c0bba708-c9a9-4d29-9ba3-ca7d6ff96064",
        "id": "gxeXUeNn9WfS",
        "colab": {
          "base_uri": "https://localhost:8080/",
          "height": 324
        }
      },
      "source": [
        "pd.DataFrame(h.history).plot(figsize=(8, 5), ls='-')\n",
        "plt.grid(True)\n",
        "plt.gca().set_ylim(0, 1)\n",
        "plt.show()"
      ],
      "execution_count": 0,
      "outputs": [
        {
          "output_type": "display_data",
          "data": {
            "image/png": "[encoded data removed]",
            "text/plain": [
              "<Figure size 576x360 with 1 Axes>"
            ]
          },
          "metadata": {
            "tags": []
          }
        }
      ]
    },
    {
      "cell_type": "code",
      "metadata": {
        "id": "jK1PoXLfxo19",
        "colab_type": "code",
        "colab": {}
      },
      "source": [
        "inputs = keras.Input(shape=(28,28,))\n",
        "x = Flatten() (inputs)\n",
        "y = Dense(10, activation='elu')(x)\n",
        "z = Dense(10, activation='relu')(y)\n",
        "outputs = Dense(10, activation='softmax')(z)"
      ],
      "execution_count": 0,
      "outputs": []
    },
    {
      "cell_type": "code",
      "metadata": {
        "id": "DQ1ptiShzipN",
        "colab_type": "code",
        "colab": {}
      },
      "source": [
        ""
      ],
      "execution_count": 0,
      "outputs": []
    },
    {
      "cell_type": "code",
      "metadata": {
        "colab_type": "code",
        "id": "kBtV393Dz5mb",
        "colab": {}
      },
      "source": [
        "func_model = keras.Model (inputs, outputs)"
      ],
      "execution_count": 0,
      "outputs": []
    },
    {
      "cell_type": "code",
      "metadata": {
        "id": "x858wlMx0AOm",
        "colab_type": "code",
        "colab": {
          "base_uri": "https://localhost:8080/",
          "height": 323
        },
        "outputId": "e2a9ebaa-a1fa-4a09-e857-92a4e7ac1598"
      },
      "source": [
        "func_model.compile(loss=keras.losses.sparse_categorical_crossentropy,\n",
        "              optimizer=keras.optimizers.Adam(),\n",
        "              metrics=[keras.metrics.sparse_categorical_accuracy])\n",
        "\n",
        "func_model.summary()"
      ],
      "execution_count": 15,
      "outputs": [
        {
          "output_type": "stream",
          "text": [
            "Model: \"model\"\n",
            "_________________________________________________________________\n",
            "Layer (type)                 Output Shape              Param #   \n",
            "=================================================================\n",
            "input_1 (InputLayer)         [(None, 28, 28)]          0         \n",
            "_________________________________________________________________\n",
            "flatten (Flatten)            (None, 784)               0         \n",
            "_________________________________________________________________\n",
            "dense (Dense)                (None, 10)                7850      \n",
            "_________________________________________________________________\n",
            "dense_1 (Dense)              (None, 10)                110       \n",
            "_________________________________________________________________\n",
            "dense_2 (Dense)              (None, 10)                110       \n",
            "=================================================================\n",
            "Total params: 8,070\n",
            "Trainable params: 8,070\n",
            "Non-trainable params: 0\n",
            "_________________________________________________________________\n"
          ],
          "name": "stdout"
        }
      ]
    },
    {
      "cell_type": "code",
      "metadata": {
        "colab_type": "code",
        "outputId": "f6286e11-c9d1-468f-f95f-3d7e95933c6e",
        "id": "PR090PiGzkZS",
        "colab": {
          "base_uri": "https://localhost:8080/",
          "height": 306
        }
      },
      "source": [
        "h = func_model.fit(X_train, y_train, batch_size=16, epochs=8, validation_data=(X_valid, y_valid))"
      ],
      "execution_count": 16,
      "outputs": [
        {
          "output_type": "stream",
          "text": [
            "Train on 50000 samples, validate on 10000 samples\n",
            "Epoch 1/8\n",
            "50000/50000 [==============================] - 7s 145us/sample - loss: 0.5069 - sparse_categorical_accuracy: 0.8482 - val_loss: 0.2890 - val_sparse_categorical_accuracy: 0.9175\n",
            "Epoch 2/8\n",
            "50000/50000 [==============================] - 7s 131us/sample - loss: 0.2952 - sparse_categorical_accuracy: 0.9156 - val_loss: 0.2552 - val_sparse_categorical_accuracy: 0.9298\n",
            "Epoch 3/8\n",
            "50000/50000 [==============================] - 6s 130us/sample - loss: 0.2668 - sparse_categorical_accuracy: 0.9237 - val_loss: 0.2422 - val_sparse_categorical_accuracy: 0.9296\n",
            "Epoch 4/8\n",
            "50000/50000 [==============================] - 7s 131us/sample - loss: 0.2499 - sparse_categorical_accuracy: 0.9274 - val_loss: 0.2379 - val_sparse_categorical_accuracy: 0.9322\n",
            "Epoch 5/8\n",
            "50000/50000 [==============================] - 6s 128us/sample - loss: 0.2366 - sparse_categorical_accuracy: 0.9315 - val_loss: 0.2223 - val_sparse_categorical_accuracy: 0.9361\n",
            "Epoch 6/8\n",
            "50000/50000 [==============================] - 6s 130us/sample - loss: 0.2285 - sparse_categorical_accuracy: 0.9342 - val_loss: 0.2352 - val_sparse_categorical_accuracy: 0.9318\n",
            "Epoch 7/8\n",
            "50000/50000 [==============================] - 7s 131us/sample - loss: 0.2194 - sparse_categorical_accuracy: 0.9359 - val_loss: 0.2187 - val_sparse_categorical_accuracy: 0.9395\n",
            "Epoch 8/8\n",
            "50000/50000 [==============================] - 7s 132us/sample - loss: 0.2118 - sparse_categorical_accuracy: 0.9391 - val_loss: 0.2237 - val_sparse_categorical_accuracy: 0.9372\n"
          ],
          "name": "stdout"
        }
      ]
    },
    {
      "cell_type": "code",
      "metadata": {
        "id": "6PK2ISpHzN-n",
        "colab_type": "code",
        "colab": {
          "base_uri": "https://localhost:8080/",
          "height": 324
        },
        "outputId": "0f12eaeb-d9fc-4fe5-f6d8-7980147ad126"
      },
      "source": [
        "pd.DataFrame(h.history).plot(figsize=(8, 5), ls='-')\n",
        "plt.grid(True)\n",
        "plt.gca().set_ylim(0, 1)\n",
        "plt.show()\n"
      ],
      "execution_count": 17,
      "outputs": [
        {
          "output_type": "display_data",
          "data": {
            "image/png": "[encoded data removed]",
            "text/plain": [
              "<Figure size 576x360 with 1 Axes>"
            ]
          },
          "metadata": {
            "tags": []
          }
        }
      ]
    },
    {
      "cell_type": "markdown",
      "metadata": {
        "id": "8227OjAC0xxb",
        "colab_type": "text"
      },
      "source": [
        "# I will try using a different optimizer\n"
      ]
    },
    {
      "cell_type": "code",
      "metadata": {
        "colab_type": "code",
        "id": "48rQkLWd1Hk6",
        "colab": {}
      },
      "source": [
        "inputs = keras.Input(shape=(28,28,))\n",
        "x = Flatten() (inputs)\n",
        "y = Dense(8, activation='relu')(x)\n",
        "z = Dense(8, activation='relu')(y)\n",
        "outputs = Dense(10, activation='sigmoid')(z)"
      ],
      "execution_count": 0,
      "outputs": []
    },
    {
      "cell_type": "code",
      "metadata": {
        "colab_type": "code",
        "id": "1r19E-A_3Awa",
        "colab": {}
      },
      "source": [
        "func_model = keras.Model (inputs, outputs)"
      ],
      "execution_count": 0,
      "outputs": []
    },
    {
      "cell_type": "code",
      "metadata": {
        "colab_type": "code",
        "outputId": "377cd52c-9190-40f7-82d8-a737f0cc2524",
        "id": "eUCEcpvl3MU6",
        "colab": {
          "base_uri": "https://localhost:8080/",
          "height": 323
        }
      },
      "source": [
        "func_model.compile(loss=keras.losses.sparse_categorical_crossentropy,\n",
        "              optimizer=keras.optimizers.Adagrad(learning_rate=0.002),\n",
        "              metrics=[keras.metrics.sparse_categorical_accuracy])\n",
        "\n",
        "func_model.summary()"
      ],
      "execution_count": 21,
      "outputs": [
        {
          "output_type": "stream",
          "text": [
            "Model: \"model_1\"\n",
            "_________________________________________________________________\n",
            "Layer (type)                 Output Shape              Param #   \n",
            "=================================================================\n",
            "input_3 (InputLayer)         [(None, 28, 28)]          0         \n",
            "_________________________________________________________________\n",
            "flatten_2 (Flatten)          (None, 784)               0         \n",
            "_________________________________________________________________\n",
            "dense_6 (Dense)              (None, 8)                 6280      \n",
            "_________________________________________________________________\n",
            "dense_7 (Dense)              (None, 8)                 72        \n",
            "_________________________________________________________________\n",
            "dense_8 (Dense)              (None, 10)                90        \n",
            "=================================================================\n",
            "Total params: 6,442\n",
            "Trainable params: 6,442\n",
            "Non-trainable params: 0\n",
            "_________________________________________________________________\n"
          ],
          "name": "stdout"
        }
      ]
    },
    {
      "cell_type": "code",
      "metadata": {
        "colab_type": "code",
        "outputId": "15f30e35-b3c3-4d08-9efd-adb7c6591b3d",
        "id": "E_pVITvG31gp",
        "colab": {
          "base_uri": "https://localhost:8080/",
          "height": 306
        }
      },
      "source": [
        "h = func_model.fit(X_train, y_train, batch_size=16, epochs=8, validation_data=(X_valid, y_valid))"
      ],
      "execution_count": 22,
      "outputs": [
        {
          "output_type": "stream",
          "text": [
            "Train on 50000 samples, validate on 10000 samples\n",
            "Epoch 1/8\n",
            "50000/50000 [==============================] - 6s 114us/sample - loss: 2.1781 - sparse_categorical_accuracy: 0.2712 - val_loss: 2.0810 - val_sparse_categorical_accuracy: 0.3424\n",
            "Epoch 2/8\n",
            "50000/50000 [==============================] - 5s 106us/sample - loss: 1.9948 - sparse_categorical_accuracy: 0.3962 - val_loss: 1.8930 - val_sparse_categorical_accuracy: 0.4642\n",
            "Epoch 3/8\n",
            "50000/50000 [==============================] - 5s 106us/sample - loss: 1.8098 - sparse_categorical_accuracy: 0.4784 - val_loss: 1.6988 - val_sparse_categorical_accuracy: 0.5086\n",
            "Epoch 4/8\n",
            "50000/50000 [==============================] - 5s 104us/sample - loss: 1.6102 - sparse_categorical_accuracy: 0.5466 - val_loss: 1.4725 - val_sparse_categorical_accuracy: 0.6036\n",
            "Epoch 5/8\n",
            "50000/50000 [==============================] - 5s 107us/sample - loss: 1.3505 - sparse_categorical_accuracy: 0.6412 - val_loss: 1.1751 - val_sparse_categorical_accuracy: 0.7112\n",
            "Epoch 6/8\n",
            "50000/50000 [==============================] - 5s 109us/sample - loss: 1.0924 - sparse_categorical_accuracy: 0.7194 - val_loss: 0.9695 - val_sparse_categorical_accuracy: 0.7551\n",
            "Epoch 7/8\n",
            "50000/50000 [==============================] - 5s 107us/sample - loss: 0.9457 - sparse_categorical_accuracy: 0.7470 - val_loss: 0.8621 - val_sparse_categorical_accuracy: 0.7740\n",
            "Epoch 8/8\n",
            "50000/50000 [==============================] - 5s 106us/sample - loss: 0.8646 - sparse_categorical_accuracy: 0.7617 - val_loss: 0.7962 - val_sparse_categorical_accuracy: 0.7857\n"
          ],
          "name": "stdout"
        }
      ]
    },
    {
      "cell_type": "code",
      "metadata": {
        "id": "8Dh1YDWM4Wv5",
        "colab_type": "code",
        "colab": {}
      },
      "source": [
        ""
      ],
      "execution_count": 0,
      "outputs": []
    },
    {
      "cell_type": "code",
      "metadata": {
        "colab_type": "code",
        "outputId": "cdcbb807-dad7-4b86-86fb-28c92c176fee",
        "id": "BV4t3iT_4ZoJ",
        "colab": {
          "base_uri": "https://localhost:8080/",
          "height": 324
        }
      },
      "source": [
        "pd.DataFrame(h.history).plot(figsize=(8, 5), ls='-')\n",
        "plt.grid(True)\n",
        "plt.gca().set_ylim(0, 1)\n",
        "plt.show()\n"
      ],
      "execution_count": 23,
      "outputs": [
        {
          "output_type": "display_data",
          "data": {
            "image/png": "[encoded data removed]",
            "text/plain": [
              "<Figure size 576x360 with 1 Axes>"
            ]
          },
          "metadata": {
            "tags": []
          }
        }
      ]
    },
    {
      "cell_type": "markdown",
      "metadata": {
        "id": "EAL6YDQP4vD7",
        "colab_type": "text"
      },
      "source": [
        "# will try with smaller learning rate and more epochs"
      ]
    },
    {
      "cell_type": "code",
      "metadata": {
        "id": "xQeQ7mdM49Gz",
        "colab_type": "code",
        "colab": {}
      },
      "source": [
        ""
      ],
      "execution_count": 0,
      "outputs": []
    },
    {
      "cell_type": "code",
      "metadata": {
        "colab_type": "code",
        "id": "VG82TOGc5NPa",
        "colab": {}
      },
      "source": [
        "inputs = keras.Input(shape=(28,28,))\n",
        "x = Flatten() (inputs)\n",
        "y = Dense(10, activation='relu')(x)\n",
        "z = Dense(10, activation='relu')(y)\n",
        "outputs = Dense(10, activation='sigmoid')(z)"
      ],
      "execution_count": 0,
      "outputs": []
    },
    {
      "cell_type": "code",
      "metadata": {
        "colab_type": "code",
        "id": "34XKcfwc5snp",
        "colab": {}
      },
      "source": [
        "func_model = keras.Model (inputs, outputs)"
      ],
      "execution_count": 0,
      "outputs": []
    },
    {
      "cell_type": "code",
      "metadata": {
        "colab_type": "code",
        "id": "9J7GmH825akZ",
        "colab": {
          "base_uri": "https://localhost:8080/",
          "height": 323
        },
        "outputId": "c9773cf5-467d-454b-eed8-5f55f51c1980"
      },
      "source": [
        "func_model.compile(loss=keras.losses.sparse_categorical_crossentropy,\n",
        "              optimizer=keras.optimizers.Adagrad(learning_rate=0.001),\n",
        "              metrics=[keras.metrics.sparse_categorical_accuracy])\n",
        "\n",
        "func_model.summary()"
      ],
      "execution_count": 27,
      "outputs": [
        {
          "output_type": "stream",
          "text": [
            "Model: \"model_2\"\n",
            "_________________________________________________________________\n",
            "Layer (type)                 Output Shape              Param #   \n",
            "=================================================================\n",
            "input_4 (InputLayer)         [(None, 28, 28)]          0         \n",
            "_________________________________________________________________\n",
            "flatten_3 (Flatten)          (None, 784)               0         \n",
            "_________________________________________________________________\n",
            "dense_9 (Dense)              (None, 10)                7850      \n",
            "_________________________________________________________________\n",
            "dense_10 (Dense)             (None, 10)                110       \n",
            "_________________________________________________________________\n",
            "dense_11 (Dense)             (None, 10)                110       \n",
            "=================================================================\n",
            "Total params: 8,070\n",
            "Trainable params: 8,070\n",
            "Non-trainable params: 0\n",
            "_________________________________________________________________\n"
          ],
          "name": "stdout"
        }
      ]
    },
    {
      "cell_type": "code",
      "metadata": {
        "id": "XBHtaQzy6KUa",
        "colab_type": "code",
        "colab": {
          "base_uri": "https://localhost:8080/",
          "height": 374
        },
        "outputId": "08ba7981-3a0f-4d5f-fef4-06037317c289"
      },
      "source": [
        "h = func_model.fit(X_train, y_train, batch_size=16, epochs=10, validation_data=(X_valid, y_valid))"
      ],
      "execution_count": 29,
      "outputs": [
        {
          "output_type": "stream",
          "text": [
            "Train on 50000 samples, validate on 10000 samples\n",
            "Epoch 1/10\n",
            "50000/50000 [==============================] - 5s 109us/sample - loss: 1.9989 - sparse_categorical_accuracy: 0.3373 - val_loss: 1.9517 - val_sparse_categorical_accuracy: 0.3692\n",
            "Epoch 2/10\n",
            "50000/50000 [==============================] - 5s 106us/sample - loss: 1.9272 - sparse_categorical_accuracy: 0.3652 - val_loss: 1.8785 - val_sparse_categorical_accuracy: 0.3853\n",
            "Epoch 3/10\n",
            "50000/50000 [==============================] - 5s 105us/sample - loss: 1.8558 - sparse_categorical_accuracy: 0.3780 - val_loss: 1.8030 - val_sparse_categorical_accuracy: 0.3963\n",
            "Epoch 4/10\n",
            "50000/50000 [==============================] - 5s 107us/sample - loss: 1.7822 - sparse_categorical_accuracy: 0.3879 - val_loss: 1.7264 - val_sparse_categorical_accuracy: 0.4076\n",
            "Epoch 5/10\n",
            "50000/50000 [==============================] - 5s 105us/sample - loss: 1.7073 - sparse_categorical_accuracy: 0.3979 - val_loss: 1.6474 - val_sparse_categorical_accuracy: 0.4123\n",
            "Epoch 6/10\n",
            "50000/50000 [==============================] - 5s 105us/sample - loss: 1.6253 - sparse_categorical_accuracy: 0.4038 - val_loss: 1.5571 - val_sparse_categorical_accuracy: 0.4193\n",
            "Epoch 7/10\n",
            "50000/50000 [==============================] - 5s 104us/sample - loss: 1.5314 - sparse_categorical_accuracy: 0.4258 - val_loss: 1.4588 - val_sparse_categorical_accuracy: 0.4540\n",
            "Epoch 8/10\n",
            "50000/50000 [==============================] - 5s 106us/sample - loss: 1.4301 - sparse_categorical_accuracy: 0.4773 - val_loss: 1.3483 - val_sparse_categorical_accuracy: 0.5260\n",
            "Epoch 9/10\n",
            "50000/50000 [==============================] - 5s 102us/sample - loss: 1.3064 - sparse_categorical_accuracy: 0.5534 - val_loss: 1.2171 - val_sparse_categorical_accuracy: 0.5873\n",
            "Epoch 10/10\n",
            "50000/50000 [==============================] - 5s 105us/sample - loss: 1.1869 - sparse_categorical_accuracy: 0.5992 - val_loss: 1.1073 - val_sparse_categorical_accuracy: 0.6269\n"
          ],
          "name": "stdout"
        }
      ]
    },
    {
      "cell_type": "code",
      "metadata": {
        "id": "FXTZjHpF6oeA",
        "colab_type": "code",
        "colab": {
          "base_uri": "https://localhost:8080/",
          "height": 324
        },
        "outputId": "81d2a582-5c87-490f-c5d3-7c1f070cf9d8"
      },
      "source": [
        "pd.DataFrame(h.history).plot(figsize=(8, 5), ls='-')\n",
        "plt.grid(True)\n",
        "plt.gca().set_ylim(0, 1)\n",
        "plt.show()"
      ],
      "execution_count": 30,
      "outputs": [
        {
          "output_type": "display_data",
          "data": {
            "image/png": "[encoded data removed]",
            "text/plain": [
              "<Figure size 576x360 with 1 Axes>"
            ]
          },
          "metadata": {
            "tags": []
          }
        }
      ]
    },
    {
      "cell_type": "markdown",
      "metadata": {
        "id": "kpiVrHJA6yq7",
        "colab_type": "text"
      },
      "source": [
        "#noting good here the the loss are out of range...\n",
        "I'll try with faster learning "
      ]
    },
    {
      "cell_type": "code",
      "metadata": {
        "id": "Q7S-wJYm67rM",
        "colab_type": "code",
        "colab": {}
      },
      "source": [
        ""
      ],
      "execution_count": 0,
      "outputs": []
    },
    {
      "cell_type": "code",
      "metadata": {
        "colab_type": "code",
        "outputId": "eafb9df8-b050-40dc-ac04-3ec3ea08dc18",
        "id": "kxWd5kCa7V8q",
        "colab": {
          "base_uri": "https://localhost:8080/",
          "height": 323
        }
      },
      "source": [
        "func_model.compile(loss=keras.losses.sparse_categorical_crossentropy,\n",
        "              optimizer=keras.optimizers.Adagrad(learning_rate=0.005),\n",
        "              metrics=[keras.metrics.sparse_categorical_accuracy])\n",
        "\n",
        "func_model.summary()"
      ],
      "execution_count": 31,
      "outputs": [
        {
          "output_type": "stream",
          "text": [
            "Model: \"model_2\"\n",
            "_________________________________________________________________\n",
            "Layer (type)                 Output Shape              Param #   \n",
            "=================================================================\n",
            "input_4 (InputLayer)         [(None, 28, 28)]          0         \n",
            "_________________________________________________________________\n",
            "flatten_3 (Flatten)          (None, 784)               0         \n",
            "_________________________________________________________________\n",
            "dense_9 (Dense)              (None, 10)                7850      \n",
            "_________________________________________________________________\n",
            "dense_10 (Dense)             (None, 10)                110       \n",
            "_________________________________________________________________\n",
            "dense_11 (Dense)             (None, 10)                110       \n",
            "=================================================================\n",
            "Total params: 8,070\n",
            "Trainable params: 8,070\n",
            "Non-trainable params: 0\n",
            "_________________________________________________________________\n"
          ],
          "name": "stdout"
        }
      ]
    },
    {
      "cell_type": "code",
      "metadata": {
        "id": "dAADTauD7efZ",
        "colab_type": "code",
        "colab": {}
      },
      "source": [
        ""
      ],
      "execution_count": 0,
      "outputs": []
    },
    {
      "cell_type": "code",
      "metadata": {
        "colab_type": "code",
        "outputId": "4e1b57f9-755f-4547-e42b-731855d936c5",
        "id": "q1ysidY_7gcp",
        "colab": {
          "base_uri": "https://localhost:8080/",
          "height": 374
        }
      },
      "source": [
        "h = func_model.fit(X_train, y_train, batch_size=16, epochs=10, validation_data=(X_valid, y_valid))"
      ],
      "execution_count": 32,
      "outputs": [
        {
          "output_type": "stream",
          "text": [
            "Train on 50000 samples, validate on 10000 samples\n",
            "Epoch 1/10\n",
            "50000/50000 [==============================] - 6s 114us/sample - loss: 0.6854 - sparse_categorical_accuracy: 0.8039 - val_loss: 0.5236 - val_sparse_categorical_accuracy: 0.8541\n",
            "Epoch 2/10\n",
            "50000/50000 [==============================] - 5s 107us/sample - loss: 0.5351 - sparse_categorical_accuracy: 0.8482 - val_loss: 0.4661 - val_sparse_categorical_accuracy: 0.8712\n",
            "Epoch 3/10\n",
            "50000/50000 [==============================] - 5s 107us/sample - loss: 0.4928 - sparse_categorical_accuracy: 0.8603 - val_loss: 0.4375 - val_sparse_categorical_accuracy: 0.8811\n",
            "Epoch 4/10\n",
            "50000/50000 [==============================] - 5s 107us/sample - loss: 0.4674 - sparse_categorical_accuracy: 0.8681 - val_loss: 0.4184 - val_sparse_categorical_accuracy: 0.8870\n",
            "Epoch 5/10\n",
            "50000/50000 [==============================] - 5s 105us/sample - loss: 0.4497 - sparse_categorical_accuracy: 0.8728 - val_loss: 0.4040 - val_sparse_categorical_accuracy: 0.8903\n",
            "Epoch 6/10\n",
            "50000/50000 [==============================] - 5s 107us/sample - loss: 0.4359 - sparse_categorical_accuracy: 0.8769 - val_loss: 0.3927 - val_sparse_categorical_accuracy: 0.8916\n",
            "Epoch 7/10\n",
            "50000/50000 [==============================] - 5s 107us/sample - loss: 0.4249 - sparse_categorical_accuracy: 0.8796 - val_loss: 0.3841 - val_sparse_categorical_accuracy: 0.8946\n",
            "Epoch 8/10\n",
            "50000/50000 [==============================] - 5s 107us/sample - loss: 0.4156 - sparse_categorical_accuracy: 0.8818 - val_loss: 0.3757 - val_sparse_categorical_accuracy: 0.8955\n",
            "Epoch 9/10\n",
            "50000/50000 [==============================] - 5s 108us/sample - loss: 0.4076 - sparse_categorical_accuracy: 0.8839 - val_loss: 0.3697 - val_sparse_categorical_accuracy: 0.8978\n",
            "Epoch 10/10\n",
            "50000/50000 [==============================] - 5s 108us/sample - loss: 0.4006 - sparse_categorical_accuracy: 0.8861 - val_loss: 0.3637 - val_sparse_categorical_accuracy: 0.8991\n"
          ],
          "name": "stdout"
        }
      ]
    },
    {
      "cell_type": "code",
      "metadata": {
        "id": "EQW6Y9nA7zzy",
        "colab_type": "code",
        "colab": {}
      },
      "source": [
        ""
      ],
      "execution_count": 0,
      "outputs": []
    },
    {
      "cell_type": "code",
      "metadata": {
        "colab_type": "code",
        "outputId": "eeaeb65c-3f6f-4c00-c5ce-67d7d430a3de",
        "id": "hYNZ-2f170bb",
        "colab": {
          "base_uri": "https://localhost:8080/",
          "height": 324
        }
      },
      "source": [
        "pd.DataFrame(h.history).plot(figsize=(8, 5), ls='-')\n",
        "plt.grid(True)\n",
        "plt.gca().set_ylim(0, 1)\n",
        "plt.show()"
      ],
      "execution_count": 33,
      "outputs": [
        {
          "output_type": "display_data",
          "data": {
            "image/png": "[encoded data removed]",
            "text/plain": [
              "<Figure size 576x360 with 1 Axes>"
            ]
          },
          "metadata": {
            "tags": []
          }
        }
      ]
    },
    {
      "cell_type": "markdown",
      "metadata": {
        "id": "vTUrptJY78xk",
        "colab_type": "text"
      },
      "source": [
        "#better but the best was the first model with Adam optimizer\n"
      ]
    },
    {
      "cell_type": "code",
      "metadata": {
        "id": "Vr-IMz6T8NZV",
        "colab_type": "code",
        "colab": {}
      },
      "source": [
        ""
      ],
      "execution_count": 0,
      "outputs": []
    }
  ]
}